{
 "cells": [
  {
   "cell_type": "markdown",
   "metadata": {},
   "source": [
    "# Image Collection \n",
    "\n",
    "In this notebook we will make a step by step guide that will help you collect images using your computers webcam.\n",
    "\n",
    "## Import Dependencies"
   ]
  },
  {
   "cell_type": "code",
   "execution_count": 1,
   "metadata": {},
   "outputs": [
    {
     "ename": "ModuleNotFoundError",
     "evalue": "No module named 'cv2'",
     "output_type": "error",
     "traceback": [
      "\u001b[0;31m---------------------------------------------------------------------------\u001b[0m",
      "\u001b[0;31mModuleNotFoundError\u001b[0m                       Traceback (most recent call last)",
      "\u001b[0;32m<ipython-input-1-879bb5b022d1>\u001b[0m in \u001b[0;36m<module>\u001b[0;34m\u001b[0m\n\u001b[1;32m      1\u001b[0m \u001b[0;32mimport\u001b[0m \u001b[0mos\u001b[0m\u001b[0;34m\u001b[0m\u001b[0;34m\u001b[0m\u001b[0m\n\u001b[0;32m----> 2\u001b[0;31m \u001b[0;32mimport\u001b[0m \u001b[0mcv2\u001b[0m\u001b[0;34m\u001b[0m\u001b[0;34m\u001b[0m\u001b[0m\n\u001b[0m\u001b[1;32m      3\u001b[0m \u001b[0;32mimport\u001b[0m \u001b[0muuid\u001b[0m\u001b[0;34m\u001b[0m\u001b[0;34m\u001b[0m\u001b[0m\n\u001b[1;32m      4\u001b[0m \u001b[0;32mimport\u001b[0m \u001b[0mtime\u001b[0m\u001b[0;34m\u001b[0m\u001b[0;34m\u001b[0m\u001b[0m\n\u001b[1;32m      5\u001b[0m \u001b[0;32mimport\u001b[0m \u001b[0mshutil\u001b[0m\u001b[0;34m\u001b[0m\u001b[0;34m\u001b[0m\u001b[0m\n",
      "\u001b[0;31mModuleNotFoundError\u001b[0m: No module named 'cv2'"
     ]
    }
   ],
   "source": [
    "import os\n",
    "import cv2 \n",
    "import uuid\n",
    "import time\n",
    "import shutil"
   ]
  },
  {
   "cell_type": "markdown",
   "metadata": {},
   "source": [
    "## Define Images to Collect\n",
    "\n",
    "To collect the images, first of all, you need to decide what are you trying to accomplish. You can choose anything, just remember to maintain always the same labels.\n",
    "\n",
    "We suggest 4 classes: \n",
    "- Thumbs Up 👍\n",
    "- Thumbs Down 👎\n",
    "- Peace ✌️\n",
    "- Thank You 🙏\n",
    "\n",
    "The number of photos you take is up to you, more photos mean the model will have a better chance to generalize over time. \n",
    "\n",
    "The quality of the photos is also important. (The best way to know is to try it out!!)"
   ]
  },
  {
   "cell_type": "code",
   "execution_count": null,
   "metadata": {},
   "outputs": [],
   "source": [
    "labels = ['thumbsup', 'thumbsdown', 'peace', 'thankyou']\n",
    "number_imgs = 5 "
   ]
  },
  {
   "cell_type": "markdown",
   "metadata": {},
   "source": [
    "### Setup Folders Paths\n",
    "To better organize our code we will set up a folder for each label. "
   ]
  },
  {
   "cell_type": "code",
   "execution_count": null,
   "metadata": {},
   "outputs": [],
   "source": [
    "IMAGES_PATH = os.path.join('MyFirstTFOD','Tensorflow', 'workspace', 'images', 'collectedimages')\n",
    "\n",
    "if not os.path.exists(IMAGES_PATH):\n",
    "    if os.name == 'posix':\n",
    "        !mkdir -p {IMAGES_PATH}\n",
    "    if os.name == 'nt':\n",
    "         !mkdir {IMAGES_PATH}\n",
    "\n",
    "\n",
    "for label in labels:\n",
    "    path = os.path.join(IMAGES_PATH, label)\n",
    "    if not os.path.exists(path):\n",
    "        !mkdir {path}"
   ]
  },
  {
   "cell_type": "markdown",
   "metadata": {},
   "source": [
    "## Capture Images\n",
    "\n",
    "**Smile for the camera.**\n",
    "\n",
    "Here we will take some pictures, please be aware that the device number that identifies the camera may be different in your machine. \n",
    "So if this doesn't work try 1/2 or 3.\n",
    "\n",
    "Also, make sure you have good ilumination and try to move around as much as possible. \n",
    "\n",
    "    Note: If you have an error like this \"NameError: name 'cv2' is not defined\" even though you have OpenCV installed, just uninstall and install again. "
   ]
  },
  {
   "cell_type": "code",
   "execution_count": null,
   "metadata": {},
   "outputs": [],
   "source": [
    "device = 0"
   ]
  },
  {
   "cell_type": "code",
   "execution_count": null,
   "metadata": {},
   "outputs": [],
   "source": [
    "for label in labels:\n",
    "    cap = cv2.VideoCapture(device)\n",
    "    print('Collecting images for {}'.format(label))\n",
    "    time.sleep(10)\n",
    "    for imgnum in range(number_imgs):\n",
    "        print('Collecting image {}'.format(imgnum))\n",
    "        ret, frame = cap.read()\n",
    "        imgname = os.path.join(IMAGES_PATH,label,label+'.'+'{}.jpg'.format(str(uuid.uuid1())))\n",
    "        cv2.imwrite(imgname, frame)\n",
    "        cv2.imshow('frame', frame)\n",
    "        time.sleep(2)\n",
    "\n",
    "        if cv2.waitKey(1) & 0xFF == ord('q'):\n",
    "            break\n",
    "cap.release()\n",
    "cv2.destroyAllWindows()\n",
    "print('All Done!!')"
   ]
  },
  {
   "cell_type": "markdown",
   "metadata": {},
   "source": [
    "## Image Labelling\n",
    "\n",
    "To label the images we are going to use LabelImg, a graphical image annotation tool. \n",
    "This tool allows you to create boxes surrounding the area of the image that you want to label.  \n",
    "\n",
    "To learn more about this tool see:\n",
    "- [Repository](https://github.com/tzutalin/labelImg)\n",
    "- [Totorial video](https://www.youtube.com/watch?v=p0nR2YsCY_U)\n",
    "\n",
    "    Note: After you finish labeling all your images, stop the cell below. If you don't it may continue running even after closing the LabelImg app."
   ]
  },
  {
   "cell_type": "code",
   "execution_count": null,
   "metadata": {},
   "outputs": [],
   "source": [
    "LABELIMG_PATH = os.path.join('MyFirstTFOD','Tensorflow', 'labelimg')\n",
    "\n",
    "if not os.path.exists(LABELIMG_PATH):\n",
    "    !mkdir {LABELIMG_PATH}\n",
    "    !git clone https://github.com/tzutalin/labelImg {LABELIMG_PATH}\n",
    "\n",
    "if os.name == 'posix':\n",
    "    !cd {LABELIMG_PATH} && make qt5py3\n",
    "if os.name =='nt':\n",
    "    !cd {LABELIMG_PATH} && pyrcc5 -o libs/resources.py resources.qrc\n",
    "\n",
    "!cd {LABELIMG_PATH} && python labelImg.py"
   ]
  },
  {
   "cell_type": "markdown",
   "metadata": {},
   "source": [
    "## Move the images into a Training and Testing Partition\n",
    "\n",
    "The code below will split your collected images set into training and test set. Please note that is not a random selection and that the partition percentage is defined in the variable ``trainig_percent``."
   ]
  },
  {
   "cell_type": "code",
   "execution_count": null,
   "metadata": {},
   "outputs": [],
   "source": [
    "training_percent = 0.7"
   ]
  },
  {
   "cell_type": "code",
   "execution_count": null,
   "metadata": {},
   "outputs": [],
   "source": [
    "TRAIN_PATH = os.path.join('MyFirstTFOD','Tensorflow', 'workspace', 'images', 'train')\n",
    "TEST_PATH = os.path.join('MyFirstTFOD','Tensorflow', 'workspace', 'images', 'test')\n",
    "for PATH in [TRAIN_PATH,TEST_PATH]:\n",
    "    if not os.path.exists(PATH):\n",
    "        if os.name == 'posix':\n",
    "            !mkdir -p {PATH}\n",
    "        if os.name == 'nt':\n",
    "            !mkdir {PATH}\n",
    "\n",
    "for label in labels:\n",
    "    label_path = os.path.join(IMAGES_PATH, label)\n",
    "    for path,dirs,files in os.walk(label_path):\n",
    "        train_count = int(number_imgs * training_percent)\n",
    "        file_names = {}\n",
    "        for file in files:\n",
    "            name, ext = os.path.splitext(file)\n",
    "            if name not in file_names:\n",
    "                file_names[name] = [os.path.join(path,file)]\n",
    "            else:\n",
    "                file_names[name].append(os.path.join(path,file))\n",
    "\n",
    "        for key, value in file_names.items():\n",
    "            if train_count > 0:\n",
    "                for image in value:\n",
    "                    !cp {image} {TRAIN_PATH}\n",
    "                train_count = train_count -1\n",
    "            else:\n",
    "                for image in value:\n",
    "                    !cp {image} {TEST_PATH}\n",
    "        "
   ]
  },
  {
   "cell_type": "markdown",
   "metadata": {},
   "source": [
    "## Go to Google Colab \n",
    "\n",
    "To continue this project in colab you need a google drive account. The first step you need to upload the **ml-usecase-tensorflow-object-detection** to your google drive and then, open the **Training.ipynb** in google colab.\n",
    "(and don't forget to enable GPU)"
   ]
  }
 ],
 "metadata": {
  "interpreter": {
   "hash": "a05df1ad340a926f917268974ada24651408851ba961ffc4b92ed50bac8afaf0"
  },
  "kernelspec": {
   "display_name": "tfod",
   "language": "python",
   "name": "python3"
  },
  "language_info": {
   "codemirror_mode": {
    "name": "ipython",
    "version": 3
   },
   "file_extension": ".py",
   "mimetype": "text/x-python",
   "name": "python",
   "nbconvert_exporter": "python",
   "pygments_lexer": "ipython3",
   "version": "3.8.0"
  }
 },
 "nbformat": 4,
 "nbformat_minor": 2
}
